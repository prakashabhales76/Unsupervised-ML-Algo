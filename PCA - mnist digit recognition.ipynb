{
 "cells": [
  {
   "cell_type": "code",
   "execution_count": 7,
   "id": "ac0cd22d",
   "metadata": {},
   "outputs": [],
   "source": [
    "import pandas as pd\n",
    "import numpy as np\n",
    "import matplotlib.pyplot as plt\n",
    "import seaborn as sb\n",
    "from sklearn.model_selection import train_test_split\n",
    "from sklearn.preprocessing import StandardScaler\n",
    "from sklearn.ensemble import RandomForestClassifier\n",
    "from sklearn.metrics import accuracy_score, classification_report, confusion_matrix\n",
    "from sklearn.ensemble import RandomForestClassifier\n",
    "from sklearn.metrics import classification_report, confusion_matrix, accuracy_score\n",
    "from scipy.stats import randint as sp_randint\n",
    "from sklearn.model_selection import RandomizedSearchCV"
   ]
  },
  {
   "cell_type": "code",
   "execution_count": 3,
   "id": "6fa9305c",
   "metadata": {},
   "outputs": [
    {
     "data": {
      "text/html": [
       "<div>\n",
       "<style scoped>\n",
       "    .dataframe tbody tr th:only-of-type {\n",
       "        vertical-align: middle;\n",
       "    }\n",
       "\n",
       "    .dataframe tbody tr th {\n",
       "        vertical-align: top;\n",
       "    }\n",
       "\n",
       "    .dataframe thead th {\n",
       "        text-align: right;\n",
       "    }\n",
       "</style>\n",
       "<table border=\"1\" class=\"dataframe\">\n",
       "  <thead>\n",
       "    <tr style=\"text-align: right;\">\n",
       "      <th></th>\n",
       "      <th>label</th>\n",
       "      <th>1x1</th>\n",
       "      <th>1x2</th>\n",
       "      <th>1x3</th>\n",
       "      <th>1x4</th>\n",
       "      <th>1x5</th>\n",
       "      <th>1x6</th>\n",
       "      <th>1x7</th>\n",
       "      <th>1x8</th>\n",
       "      <th>1x9</th>\n",
       "      <th>...</th>\n",
       "      <th>28x19</th>\n",
       "      <th>28x20</th>\n",
       "      <th>28x21</th>\n",
       "      <th>28x22</th>\n",
       "      <th>28x23</th>\n",
       "      <th>28x24</th>\n",
       "      <th>28x25</th>\n",
       "      <th>28x26</th>\n",
       "      <th>28x27</th>\n",
       "      <th>28x28</th>\n",
       "    </tr>\n",
       "  </thead>\n",
       "  <tbody>\n",
       "    <tr>\n",
       "      <th>12628</th>\n",
       "      <td>7</td>\n",
       "      <td>0</td>\n",
       "      <td>0</td>\n",
       "      <td>0</td>\n",
       "      <td>0</td>\n",
       "      <td>0</td>\n",
       "      <td>0</td>\n",
       "      <td>0</td>\n",
       "      <td>0</td>\n",
       "      <td>0</td>\n",
       "      <td>...</td>\n",
       "      <td>0</td>\n",
       "      <td>0</td>\n",
       "      <td>0</td>\n",
       "      <td>0</td>\n",
       "      <td>0</td>\n",
       "      <td>0</td>\n",
       "      <td>0</td>\n",
       "      <td>0</td>\n",
       "      <td>0</td>\n",
       "      <td>0</td>\n",
       "    </tr>\n",
       "    <tr>\n",
       "      <th>37730</th>\n",
       "      <td>3</td>\n",
       "      <td>0</td>\n",
       "      <td>0</td>\n",
       "      <td>0</td>\n",
       "      <td>0</td>\n",
       "      <td>0</td>\n",
       "      <td>0</td>\n",
       "      <td>0</td>\n",
       "      <td>0</td>\n",
       "      <td>0</td>\n",
       "      <td>...</td>\n",
       "      <td>0</td>\n",
       "      <td>0</td>\n",
       "      <td>0</td>\n",
       "      <td>0</td>\n",
       "      <td>0</td>\n",
       "      <td>0</td>\n",
       "      <td>0</td>\n",
       "      <td>0</td>\n",
       "      <td>0</td>\n",
       "      <td>0</td>\n",
       "    </tr>\n",
       "    <tr>\n",
       "      <th>39991</th>\n",
       "      <td>8</td>\n",
       "      <td>0</td>\n",
       "      <td>0</td>\n",
       "      <td>0</td>\n",
       "      <td>0</td>\n",
       "      <td>0</td>\n",
       "      <td>0</td>\n",
       "      <td>0</td>\n",
       "      <td>0</td>\n",
       "      <td>0</td>\n",
       "      <td>...</td>\n",
       "      <td>0</td>\n",
       "      <td>0</td>\n",
       "      <td>0</td>\n",
       "      <td>0</td>\n",
       "      <td>0</td>\n",
       "      <td>0</td>\n",
       "      <td>0</td>\n",
       "      <td>0</td>\n",
       "      <td>0</td>\n",
       "      <td>0</td>\n",
       "    </tr>\n",
       "    <tr>\n",
       "      <th>8525</th>\n",
       "      <td>9</td>\n",
       "      <td>0</td>\n",
       "      <td>0</td>\n",
       "      <td>0</td>\n",
       "      <td>0</td>\n",
       "      <td>0</td>\n",
       "      <td>0</td>\n",
       "      <td>0</td>\n",
       "      <td>0</td>\n",
       "      <td>0</td>\n",
       "      <td>...</td>\n",
       "      <td>0</td>\n",
       "      <td>0</td>\n",
       "      <td>0</td>\n",
       "      <td>0</td>\n",
       "      <td>0</td>\n",
       "      <td>0</td>\n",
       "      <td>0</td>\n",
       "      <td>0</td>\n",
       "      <td>0</td>\n",
       "      <td>0</td>\n",
       "    </tr>\n",
       "    <tr>\n",
       "      <th>8279</th>\n",
       "      <td>3</td>\n",
       "      <td>0</td>\n",
       "      <td>0</td>\n",
       "      <td>0</td>\n",
       "      <td>0</td>\n",
       "      <td>0</td>\n",
       "      <td>0</td>\n",
       "      <td>0</td>\n",
       "      <td>0</td>\n",
       "      <td>0</td>\n",
       "      <td>...</td>\n",
       "      <td>0</td>\n",
       "      <td>0</td>\n",
       "      <td>0</td>\n",
       "      <td>0</td>\n",
       "      <td>0</td>\n",
       "      <td>0</td>\n",
       "      <td>0</td>\n",
       "      <td>0</td>\n",
       "      <td>0</td>\n",
       "      <td>0</td>\n",
       "    </tr>\n",
       "  </tbody>\n",
       "</table>\n",
       "<p>5 rows × 785 columns</p>\n",
       "</div>"
      ],
      "text/plain": [
       "       label  1x1  1x2  1x3  1x4  1x5  1x6  1x7  1x8  1x9  ...  28x19  28x20  \\\n",
       "12628      7    0    0    0    0    0    0    0    0    0  ...      0      0   \n",
       "37730      3    0    0    0    0    0    0    0    0    0  ...      0      0   \n",
       "39991      8    0    0    0    0    0    0    0    0    0  ...      0      0   \n",
       "8525       9    0    0    0    0    0    0    0    0    0  ...      0      0   \n",
       "8279       3    0    0    0    0    0    0    0    0    0  ...      0      0   \n",
       "\n",
       "       28x21  28x22  28x23  28x24  28x25  28x26  28x27  28x28  \n",
       "12628      0      0      0      0      0      0      0      0  \n",
       "37730      0      0      0      0      0      0      0      0  \n",
       "39991      0      0      0      0      0      0      0      0  \n",
       "8525       0      0      0      0      0      0      0      0  \n",
       "8279       0      0      0      0      0      0      0      0  \n",
       "\n",
       "[5 rows x 785 columns]"
      ]
     },
     "execution_count": 3,
     "metadata": {},
     "output_type": "execute_result"
    }
   ],
   "source": [
    "df = pd.read_csv('mnist_train.csv')\n",
    "df = df.sample(10000, random_state=42)\n",
    "df.head()"
   ]
  },
  {
   "cell_type": "code",
   "execution_count": 4,
   "id": "43420342",
   "metadata": {},
   "outputs": [
    {
     "data": {
      "text/plain": [
       "Series([], dtype: int64)"
      ]
     },
     "execution_count": 4,
     "metadata": {},
     "output_type": "execute_result"
    }
   ],
   "source": [
    "df.isnull().sum()[df.isnull().sum()!=0]"
   ]
  },
  {
   "cell_type": "code",
   "execution_count": 5,
   "id": "e5abcaef",
   "metadata": {},
   "outputs": [],
   "source": [
    "y = df['label']\n",
    "X = df.drop('label', axis=1)"
   ]
  },
  {
   "cell_type": "code",
   "execution_count": 6,
   "id": "aed684c0",
   "metadata": {},
   "outputs": [
    {
     "data": {
      "text/html": [
       "<div>\n",
       "<style scoped>\n",
       "    .dataframe tbody tr th:only-of-type {\n",
       "        vertical-align: middle;\n",
       "    }\n",
       "\n",
       "    .dataframe tbody tr th {\n",
       "        vertical-align: top;\n",
       "    }\n",
       "\n",
       "    .dataframe thead th {\n",
       "        text-align: right;\n",
       "    }\n",
       "</style>\n",
       "<table border=\"1\" class=\"dataframe\">\n",
       "  <thead>\n",
       "    <tr style=\"text-align: right;\">\n",
       "      <th></th>\n",
       "      <th>1x1</th>\n",
       "      <th>1x2</th>\n",
       "      <th>1x3</th>\n",
       "      <th>1x4</th>\n",
       "      <th>1x5</th>\n",
       "      <th>1x6</th>\n",
       "      <th>1x7</th>\n",
       "      <th>1x8</th>\n",
       "      <th>1x9</th>\n",
       "      <th>1x10</th>\n",
       "      <th>...</th>\n",
       "      <th>28x19</th>\n",
       "      <th>28x20</th>\n",
       "      <th>28x21</th>\n",
       "      <th>28x22</th>\n",
       "      <th>28x23</th>\n",
       "      <th>28x24</th>\n",
       "      <th>28x25</th>\n",
       "      <th>28x26</th>\n",
       "      <th>28x27</th>\n",
       "      <th>28x28</th>\n",
       "    </tr>\n",
       "  </thead>\n",
       "  <tbody>\n",
       "    <tr>\n",
       "      <th>count</th>\n",
       "      <td>10000.0</td>\n",
       "      <td>10000.0</td>\n",
       "      <td>10000.0</td>\n",
       "      <td>10000.0</td>\n",
       "      <td>10000.0</td>\n",
       "      <td>10000.0</td>\n",
       "      <td>10000.0</td>\n",
       "      <td>10000.0</td>\n",
       "      <td>10000.0</td>\n",
       "      <td>10000.0</td>\n",
       "      <td>...</td>\n",
       "      <td>10000.00000</td>\n",
       "      <td>10000.000000</td>\n",
       "      <td>10000.000000</td>\n",
       "      <td>10000.00000</td>\n",
       "      <td>10000.0</td>\n",
       "      <td>10000.0</td>\n",
       "      <td>10000.0</td>\n",
       "      <td>10000.0</td>\n",
       "      <td>10000.0</td>\n",
       "      <td>10000.0</td>\n",
       "    </tr>\n",
       "    <tr>\n",
       "      <th>mean</th>\n",
       "      <td>0.0</td>\n",
       "      <td>0.0</td>\n",
       "      <td>0.0</td>\n",
       "      <td>0.0</td>\n",
       "      <td>0.0</td>\n",
       "      <td>0.0</td>\n",
       "      <td>0.0</td>\n",
       "      <td>0.0</td>\n",
       "      <td>0.0</td>\n",
       "      <td>0.0</td>\n",
       "      <td>...</td>\n",
       "      <td>0.11110</td>\n",
       "      <td>0.082100</td>\n",
       "      <td>0.072800</td>\n",
       "      <td>0.01560</td>\n",
       "      <td>0.0</td>\n",
       "      <td>0.0</td>\n",
       "      <td>0.0</td>\n",
       "      <td>0.0</td>\n",
       "      <td>0.0</td>\n",
       "      <td>0.0</td>\n",
       "    </tr>\n",
       "    <tr>\n",
       "      <th>std</th>\n",
       "      <td>0.0</td>\n",
       "      <td>0.0</td>\n",
       "      <td>0.0</td>\n",
       "      <td>0.0</td>\n",
       "      <td>0.0</td>\n",
       "      <td>0.0</td>\n",
       "      <td>0.0</td>\n",
       "      <td>0.0</td>\n",
       "      <td>0.0</td>\n",
       "      <td>0.0</td>\n",
       "      <td>...</td>\n",
       "      <td>4.58858</td>\n",
       "      <td>4.371278</td>\n",
       "      <td>3.528278</td>\n",
       "      <td>1.31024</td>\n",
       "      <td>0.0</td>\n",
       "      <td>0.0</td>\n",
       "      <td>0.0</td>\n",
       "      <td>0.0</td>\n",
       "      <td>0.0</td>\n",
       "      <td>0.0</td>\n",
       "    </tr>\n",
       "    <tr>\n",
       "      <th>min</th>\n",
       "      <td>0.0</td>\n",
       "      <td>0.0</td>\n",
       "      <td>0.0</td>\n",
       "      <td>0.0</td>\n",
       "      <td>0.0</td>\n",
       "      <td>0.0</td>\n",
       "      <td>0.0</td>\n",
       "      <td>0.0</td>\n",
       "      <td>0.0</td>\n",
       "      <td>0.0</td>\n",
       "      <td>...</td>\n",
       "      <td>0.00000</td>\n",
       "      <td>0.000000</td>\n",
       "      <td>0.000000</td>\n",
       "      <td>0.00000</td>\n",
       "      <td>0.0</td>\n",
       "      <td>0.0</td>\n",
       "      <td>0.0</td>\n",
       "      <td>0.0</td>\n",
       "      <td>0.0</td>\n",
       "      <td>0.0</td>\n",
       "    </tr>\n",
       "    <tr>\n",
       "      <th>25%</th>\n",
       "      <td>0.0</td>\n",
       "      <td>0.0</td>\n",
       "      <td>0.0</td>\n",
       "      <td>0.0</td>\n",
       "      <td>0.0</td>\n",
       "      <td>0.0</td>\n",
       "      <td>0.0</td>\n",
       "      <td>0.0</td>\n",
       "      <td>0.0</td>\n",
       "      <td>0.0</td>\n",
       "      <td>...</td>\n",
       "      <td>0.00000</td>\n",
       "      <td>0.000000</td>\n",
       "      <td>0.000000</td>\n",
       "      <td>0.00000</td>\n",
       "      <td>0.0</td>\n",
       "      <td>0.0</td>\n",
       "      <td>0.0</td>\n",
       "      <td>0.0</td>\n",
       "      <td>0.0</td>\n",
       "      <td>0.0</td>\n",
       "    </tr>\n",
       "    <tr>\n",
       "      <th>50%</th>\n",
       "      <td>0.0</td>\n",
       "      <td>0.0</td>\n",
       "      <td>0.0</td>\n",
       "      <td>0.0</td>\n",
       "      <td>0.0</td>\n",
       "      <td>0.0</td>\n",
       "      <td>0.0</td>\n",
       "      <td>0.0</td>\n",
       "      <td>0.0</td>\n",
       "      <td>0.0</td>\n",
       "      <td>...</td>\n",
       "      <td>0.00000</td>\n",
       "      <td>0.000000</td>\n",
       "      <td>0.000000</td>\n",
       "      <td>0.00000</td>\n",
       "      <td>0.0</td>\n",
       "      <td>0.0</td>\n",
       "      <td>0.0</td>\n",
       "      <td>0.0</td>\n",
       "      <td>0.0</td>\n",
       "      <td>0.0</td>\n",
       "    </tr>\n",
       "    <tr>\n",
       "      <th>75%</th>\n",
       "      <td>0.0</td>\n",
       "      <td>0.0</td>\n",
       "      <td>0.0</td>\n",
       "      <td>0.0</td>\n",
       "      <td>0.0</td>\n",
       "      <td>0.0</td>\n",
       "      <td>0.0</td>\n",
       "      <td>0.0</td>\n",
       "      <td>0.0</td>\n",
       "      <td>0.0</td>\n",
       "      <td>...</td>\n",
       "      <td>0.00000</td>\n",
       "      <td>0.000000</td>\n",
       "      <td>0.000000</td>\n",
       "      <td>0.00000</td>\n",
       "      <td>0.0</td>\n",
       "      <td>0.0</td>\n",
       "      <td>0.0</td>\n",
       "      <td>0.0</td>\n",
       "      <td>0.0</td>\n",
       "      <td>0.0</td>\n",
       "    </tr>\n",
       "    <tr>\n",
       "      <th>max</th>\n",
       "      <td>0.0</td>\n",
       "      <td>0.0</td>\n",
       "      <td>0.0</td>\n",
       "      <td>0.0</td>\n",
       "      <td>0.0</td>\n",
       "      <td>0.0</td>\n",
       "      <td>0.0</td>\n",
       "      <td>0.0</td>\n",
       "      <td>0.0</td>\n",
       "      <td>0.0</td>\n",
       "      <td>...</td>\n",
       "      <td>253.00000</td>\n",
       "      <td>254.000000</td>\n",
       "      <td>199.000000</td>\n",
       "      <td>128.00000</td>\n",
       "      <td>0.0</td>\n",
       "      <td>0.0</td>\n",
       "      <td>0.0</td>\n",
       "      <td>0.0</td>\n",
       "      <td>0.0</td>\n",
       "      <td>0.0</td>\n",
       "    </tr>\n",
       "  </tbody>\n",
       "</table>\n",
       "<p>8 rows × 784 columns</p>\n",
       "</div>"
      ],
      "text/plain": [
       "           1x1      1x2      1x3      1x4      1x5      1x6      1x7      1x8  \\\n",
       "count  10000.0  10000.0  10000.0  10000.0  10000.0  10000.0  10000.0  10000.0   \n",
       "mean       0.0      0.0      0.0      0.0      0.0      0.0      0.0      0.0   \n",
       "std        0.0      0.0      0.0      0.0      0.0      0.0      0.0      0.0   \n",
       "min        0.0      0.0      0.0      0.0      0.0      0.0      0.0      0.0   \n",
       "25%        0.0      0.0      0.0      0.0      0.0      0.0      0.0      0.0   \n",
       "50%        0.0      0.0      0.0      0.0      0.0      0.0      0.0      0.0   \n",
       "75%        0.0      0.0      0.0      0.0      0.0      0.0      0.0      0.0   \n",
       "max        0.0      0.0      0.0      0.0      0.0      0.0      0.0      0.0   \n",
       "\n",
       "           1x9     1x10  ...        28x19         28x20         28x21  \\\n",
       "count  10000.0  10000.0  ...  10000.00000  10000.000000  10000.000000   \n",
       "mean       0.0      0.0  ...      0.11110      0.082100      0.072800   \n",
       "std        0.0      0.0  ...      4.58858      4.371278      3.528278   \n",
       "min        0.0      0.0  ...      0.00000      0.000000      0.000000   \n",
       "25%        0.0      0.0  ...      0.00000      0.000000      0.000000   \n",
       "50%        0.0      0.0  ...      0.00000      0.000000      0.000000   \n",
       "75%        0.0      0.0  ...      0.00000      0.000000      0.000000   \n",
       "max        0.0      0.0  ...    253.00000    254.000000    199.000000   \n",
       "\n",
       "             28x22    28x23    28x24    28x25    28x26    28x27    28x28  \n",
       "count  10000.00000  10000.0  10000.0  10000.0  10000.0  10000.0  10000.0  \n",
       "mean       0.01560      0.0      0.0      0.0      0.0      0.0      0.0  \n",
       "std        1.31024      0.0      0.0      0.0      0.0      0.0      0.0  \n",
       "min        0.00000      0.0      0.0      0.0      0.0      0.0      0.0  \n",
       "25%        0.00000      0.0      0.0      0.0      0.0      0.0      0.0  \n",
       "50%        0.00000      0.0      0.0      0.0      0.0      0.0      0.0  \n",
       "75%        0.00000      0.0      0.0      0.0      0.0      0.0      0.0  \n",
       "max      128.00000      0.0      0.0      0.0      0.0      0.0      0.0  \n",
       "\n",
       "[8 rows x 784 columns]"
      ]
     },
     "execution_count": 6,
     "metadata": {},
     "output_type": "execute_result"
    }
   ],
   "source": [
    "X.describe()"
   ]
  },
  {
   "cell_type": "code",
   "execution_count": 8,
   "id": "e4bb86f1",
   "metadata": {},
   "outputs": [
    {
     "data": {
      "image/png": "[encoded data removed]",
      "text/plain": [
       "<Figure size 500x500 with 1 Axes>"
      ]
     },
     "metadata": {},
     "output_type": "display_data"
    },
    {
     "data": {
      "image/png": "[encoded data removed]",
      "text/plain": [
       "<Figure size 500x500 with 1 Axes>"
      ]
     },
     "metadata": {},
     "output_type": "display_data"
    },
    {
     "data": {
      "image/png": "[encoded data removed]",
      "text/plain": [
       "<Figure size 500x500 with 1 Axes>"
      ]
     },
     "metadata": {},
     "output_type": "display_data"
    },
    {
     "data": {
      "image/png": "[encoded data removed]",
      "text/plain": [
       "<Figure size 500x500 with 1 Axes>"
      ]
     },
     "metadata": {},
     "output_type": "display_data"
    },
    {
     "data": {
      "image/png": "[encoded data removed]",
      "text/plain": [
       "<Figure size 500x500 with 1 Axes>"
      ]
     },
     "metadata": {},
     "output_type": "display_data"
    },
    {
     "data": {
      "image/png": "[encoded data removed]",
      "text/plain": [
       "<Figure size 500x500 with 1 Axes>"
      ]
     },
     "metadata": {},
     "output_type": "display_data"
    },
    {
     "data": {
      "image/png": "[encoded data removed]",
      "text/plain": [
       "<Figure size 500x500 with 1 Axes>"
      ]
     },
     "metadata": {},
     "output_type": "display_data"
    },
    {
     "data": {
      "image/png": "[encoded data removed]",
      "text/plain": [
       "<Figure size 500x500 with 1 Axes>"
      ]
     },
     "metadata": {},
     "output_type": "display_data"
    },
    {
     "data": {
      "image/png": "[encoded data removed]",
      "text/plain": [
       "<Figure size 500x500 with 1 Axes>"
      ]
     },
     "metadata": {},
     "output_type": "display_data"
    }
   ],
   "source": [
    "for i in range(0,9):\n",
    "    plt.figure(figsize=(5,5))\n",
    "    data = X.iloc[i].values.reshape(28,28)\n",
    "    plt.imshow(data, cmap='gray')\n",
    "    plt.show()"
   ]
  },
  {
   "cell_type": "code",
   "execution_count": 9,
   "id": "62e73f44",
   "metadata": {},
   "outputs": [],
   "source": [
    "from sklearn.model_selection import train_test_split\n",
    "from sklearn.preprocessing import StandardScaler\n",
    "ss = StandardScaler()\n",
    "X_train, X_test, y_train, y_test = train_test_split(X, y, test_size=0.33, random_state=42)\n",
    "\n",
    "X_trains = ss.fit_transform(X_train)\n",
    "X_tests = ss.transform(X_test)"
   ]
  },
  {
   "cell_type": "code",
   "execution_count": 10,
   "id": "d22399ff",
   "metadata": {},
   "outputs": [
    {
     "name": "stdout",
     "output_type": "stream",
     "text": [
      "accuracy score - train 1.0\n",
      "class report - train               precision    recall  f1-score   support\n",
      "\n",
      "           0       1.00      1.00      1.00       648\n",
      "           1       1.00      1.00      1.00       702\n",
      "           2       1.00      1.00      1.00       663\n",
      "           3       1.00      1.00      1.00       668\n",
      "           4       1.00      1.00      1.00       654\n",
      "           5       1.00      1.00      1.00       626\n",
      "           6       1.00      1.00      1.00       669\n",
      "           7       1.00      1.00      1.00       719\n",
      "           8       1.00      1.00      1.00       658\n",
      "           9       1.00      1.00      1.00       693\n",
      "\n",
      "    accuracy                           1.00      6700\n",
      "   macro avg       1.00      1.00      1.00      6700\n",
      "weighted avg       1.00      1.00      1.00      6700\n",
      "\n",
      "confusion report - train [[648   0   0   0   0   0   0   0   0   0]\n",
      " [  0 702   0   0   0   0   0   0   0   0]\n",
      " [  0   0 663   0   0   0   0   0   0   0]\n",
      " [  0   0   0 668   0   0   0   0   0   0]\n",
      " [  0   0   0   0 654   0   0   0   0   0]\n",
      " [  0   0   0   0   0 626   0   0   0   0]\n",
      " [  0   0   0   0   0   0 669   0   0   0]\n",
      " [  0   0   0   0   0   0   0 719   0   0]\n",
      " [  0   0   0   0   0   0   0   0 658   0]\n",
      " [  0   0   0   0   0   0   0   0   0 693]]\n",
      "accuracy score - test 0.9487878787878787\n",
      "class report - test               precision    recall  f1-score   support\n",
      "\n",
      "           0       0.98      0.98      0.98       336\n",
      "           1       0.97      0.98      0.98       391\n",
      "           2       0.91      0.97      0.94       331\n",
      "           3       0.96      0.91      0.93       332\n",
      "           4       0.93      0.95      0.94       326\n",
      "           5       0.95      0.94      0.94       293\n",
      "           6       0.97      0.97      0.97       312\n",
      "           7       0.94      0.92      0.93       341\n",
      "           8       0.95      0.94      0.95       321\n",
      "           9       0.93      0.91      0.92       317\n",
      "\n",
      "    accuracy                           0.95      3300\n",
      "   macro avg       0.95      0.95      0.95      3300\n",
      "weighted avg       0.95      0.95      0.95      3300\n",
      "\n",
      "confusion report - test [[330   0   2   0   0   1   0   0   3   0]\n",
      " [  0 385   2   1   0   0   0   2   1   0]\n",
      " [  0   1 320   2   3   1   0   4   0   0]\n",
      " [  0   0   9 301   1  12   0   3   3   3]\n",
      " [  1   0   1   0 310   0   2   5   0   7]\n",
      " [  0   4   2   4   0 275   5   0   1   2]\n",
      " [  3   0   0   0   2   0 304   0   3   0]\n",
      " [  0   5   9   2   3   0   0 314   3   5]\n",
      " [  0   2   5   2   4   1   1   0 302   4]\n",
      " [  3   0   2   3  10   1   1   6   1 290]]\n"
     ]
    }
   ],
   "source": [
    "from sklearn.ensemble import RandomForestClassifier\n",
    "from sklearn.metrics import classification_report, confusion_matrix, accuracy_score\n",
    "\n",
    "rfc = RandomForestClassifier()\n",
    "\n",
    "rfc.fit(X_trains, y_train)\n",
    "y_train_pred = rfc.predict(X_trains)\n",
    "y_test_pred = rfc.predict(X_tests)\n",
    "\n",
    "print('accuracy score - train', accuracy_score(y_train, y_train_pred))\n",
    "print('class report - train', classification_report(y_train, y_train_pred))\n",
    "print('confusion report - train', confusion_matrix(y_train, y_train_pred))\n",
    "\n",
    "print('accuracy score - test', accuracy_score(y_test, y_test_pred))\n",
    "print('class report - test', classification_report(y_test, y_test_pred))\n",
    "print('confusion report - test', confusion_matrix(y_test, y_test_pred))"
   ]
  },
  {
   "cell_type": "markdown",
   "id": "e23e1f15",
   "metadata": {},
   "source": [
    "### Tuning Random Forest"
   ]
  },
  {
   "cell_type": "code",
   "execution_count": 6,
   "id": "f0e4d148",
   "metadata": {},
   "outputs": [
    {
     "data": {
      "text/plain": [
       "dict_keys(['explained_variance', 'r2', 'max_error', 'matthews_corrcoef', 'neg_median_absolute_error', 'neg_mean_absolute_error', 'neg_mean_absolute_percentage_error', 'neg_mean_squared_error', 'neg_mean_squared_log_error', 'neg_root_mean_squared_error', 'neg_mean_poisson_deviance', 'neg_mean_gamma_deviance', 'accuracy', 'top_k_accuracy', 'roc_auc', 'roc_auc_ovr', 'roc_auc_ovo', 'roc_auc_ovr_weighted', 'roc_auc_ovo_weighted', 'balanced_accuracy', 'average_precision', 'neg_log_loss', 'neg_brier_score', 'positive_likelihood_ratio', 'neg_negative_likelihood_ratio', 'adjusted_rand_score', 'rand_score', 'homogeneity_score', 'completeness_score', 'v_measure_score', 'mutual_info_score', 'adjusted_mutual_info_score', 'normalized_mutual_info_score', 'fowlkes_mallows_score', 'precision', 'precision_macro', 'precision_micro', 'precision_samples', 'precision_weighted', 'recall', 'recall_macro', 'recall_micro', 'recall_samples', 'recall_weighted', 'f1', 'f1_macro', 'f1_micro', 'f1_samples', 'f1_weighted', 'jaccard', 'jaccard_macro', 'jaccard_micro', 'jaccard_samples', 'jaccard_weighted'])"
      ]
     },
     "execution_count": 6,
     "metadata": {},
     "output_type": "execute_result"
    }
   ],
   "source": [
    "import sklearn\n",
    "sklearn.metrics.SCORERS.keys()"
   ]
  },
  {
   "cell_type": "code",
   "execution_count": 12,
   "id": "3d075d1d",
   "metadata": {},
   "outputs": [],
   "source": [
    "from scipy.stats import randint as sp_randint\n",
    "from sklearn.model_selection import RandomizedSearchCV\n",
    "rfc = RandomForestClassifier()\n",
    "\n",
    "param_dist = {'n_estimators':sp_randint(50, 1000),\n",
    "              'max_depth':sp_randint(2, 20),\n",
    "              'max_features':sp_randint(2, 754),\n",
    "              'min_samples_leaf':sp_randint(1, 25)}\n",
    "\n",
    "rsearch = RandomizedSearchCV(rfc, param_distributions=param_dist, cv=3, scoring='accuracy',\n",
    "                            n_iter=5, random_state=42)\n",
    "#rsearch.fit(X_trains, y_train)"
   ]
  },
  {
   "cell_type": "markdown",
   "id": "630b6bef",
   "metadata": {},
   "source": [
    "### Principal Componenent Analysis"
   ]
  },
  {
   "cell_type": "code",
   "execution_count": 3,
   "id": "beee7951",
   "metadata": {},
   "outputs": [],
   "source": [
    "from sklearn.decomposition import PCA"
   ]
  },
  {
   "cell_type": "code",
   "execution_count": 14,
   "id": "3b0865b3",
   "metadata": {},
   "outputs": [
    {
     "data": {
      "text/html": [
       "<style>#sk-container-id-1 {color: black;background-color: white;}#sk-container-id-1 pre{padding: 0;}#sk-container-id-1 div.sk-toggleable {background-color: white;}#sk-container-id-1 label.sk-toggleable__label {cursor: pointer;display: block;width: 100%;margin-bottom: 0;padding: 0.3em;box-sizing: border-box;text-align: center;}#sk-container-id-1 label.sk-toggleable__label-arrow:before {content: \"▸\";float: left;margin-right: 0.25em;color: #696969;}#sk-container-id-1 label.sk-toggleable__label-arrow:hover:before {color: black;}#sk-container-id-1 div.sk-estimator:hover label.sk-toggleable__label-arrow:before {color: black;}#sk-container-id-1 div.sk-toggleable__content {max-height: 0;max-width: 0;overflow: hidden;text-align: left;background-color: #f0f8ff;}#sk-container-id-1 div.sk-toggleable__content pre {margin: 0.2em;color: black;border-radius: 0.25em;background-color: #f0f8ff;}#sk-container-id-1 input.sk-toggleable__control:checked~div.sk-toggleable__content {max-height: 200px;max-width: 100%;overflow: auto;}#sk-container-id-1 input.sk-toggleable__control:checked~label.sk-toggleable__label-arrow:before {content: \"▾\";}#sk-container-id-1 div.sk-estimator input.sk-toggleable__control:checked~label.sk-toggleable__label {background-color: #d4ebff;}#sk-container-id-1 div.sk-label input.sk-toggleable__control:checked~label.sk-toggleable__label {background-color: #d4ebff;}#sk-container-id-1 input.sk-hidden--visually {border: 0;clip: rect(1px 1px 1px 1px);clip: rect(1px, 1px, 1px, 1px);height: 1px;margin: -1px;overflow: hidden;padding: 0;position: absolute;width: 1px;}#sk-container-id-1 div.sk-estimator {font-family: monospace;background-color: #f0f8ff;border: 1px dotted black;border-radius: 0.25em;box-sizing: border-box;margin-bottom: 0.5em;}#sk-container-id-1 div.sk-estimator:hover {background-color: #d4ebff;}#sk-container-id-1 div.sk-parallel-item::after {content: \"\";width: 100%;border-bottom: 1px solid gray;flex-grow: 1;}#sk-container-id-1 div.sk-label:hover label.sk-toggleable__label {background-color: #d4ebff;}#sk-container-id-1 div.sk-serial::before {content: \"\";position: absolute;border-left: 1px solid gray;box-sizing: border-box;top: 0;bottom: 0;left: 50%;z-index: 0;}#sk-container-id-1 div.sk-serial {display: flex;flex-direction: column;align-items: center;background-color: white;padding-right: 0.2em;padding-left: 0.2em;position: relative;}#sk-container-id-1 div.sk-item {position: relative;z-index: 1;}#sk-container-id-1 div.sk-parallel {display: flex;align-items: stretch;justify-content: center;background-color: white;position: relative;}#sk-container-id-1 div.sk-item::before, #sk-container-id-1 div.sk-parallel-item::before {content: \"\";position: absolute;border-left: 1px solid gray;box-sizing: border-box;top: 0;bottom: 0;left: 50%;z-index: -1;}#sk-container-id-1 div.sk-parallel-item {display: flex;flex-direction: column;z-index: 1;position: relative;background-color: white;}#sk-container-id-1 div.sk-parallel-item:first-child::after {align-self: flex-end;width: 50%;}#sk-container-id-1 div.sk-parallel-item:last-child::after {align-self: flex-start;width: 50%;}#sk-container-id-1 div.sk-parallel-item:only-child::after {width: 0;}#sk-container-id-1 div.sk-dashed-wrapped {border: 1px dashed gray;margin: 0 0.4em 0.5em 0.4em;box-sizing: border-box;padding-bottom: 0.4em;background-color: white;}#sk-container-id-1 div.sk-label label {font-family: monospace;font-weight: bold;display: inline-block;line-height: 1.2em;}#sk-container-id-1 div.sk-label-container {text-align: center;}#sk-container-id-1 div.sk-container {/* jupyter's `normalize.less` sets `[hidden] { display: none; }` but bootstrap.min.css set `[hidden] { display: none !important; }` so we also need the `!important` here to be able to override the default hidden behavior on the sphinx rendered scikit-learn.org. See: https://github.com/scikit-learn/scikit-learn/issues/21755 */display: inline-block !important;position: relative;}#sk-container-id-1 div.sk-text-repr-fallback {display: none;}</style><div id=\"sk-container-id-1\" class=\"sk-top-container\"><div class=\"sk-text-repr-fallback\"><pre>PCA()</pre><b>In a Jupyter environment, please rerun this cell to show the HTML representation or trust the notebook. <br />On GitHub, the HTML representation is unable to render, please try loading this page with nbviewer.org.</b></div><div class=\"sk-container\" hidden><div class=\"sk-item\"><div class=\"sk-estimator sk-toggleable\"><input class=\"sk-toggleable__control sk-hidden--visually\" id=\"sk-estimator-id-1\" type=\"checkbox\" checked><label for=\"sk-estimator-id-1\" class=\"sk-toggleable__label sk-toggleable__label-arrow\">PCA</label><div class=\"sk-toggleable__content\"><pre>PCA()</pre></div></div></div></div></div>"
      ],
      "text/plain": [
       "PCA()"
      ]
     },
     "execution_count": 14,
     "metadata": {},
     "output_type": "execute_result"
    }
   ],
   "source": [
    "pca = PCA()\n",
    "pca.fit(X_trains)"
   ]
  },
  {
   "cell_type": "code",
   "execution_count": 15,
   "id": "d21bd0a6",
   "metadata": {},
   "outputs": [
    {
     "data": {
      "image/png": "[encoded data removed]",
      "text/plain": [
       "<Figure size 1500x500 with 1 Axes>"
      ]
     },
     "metadata": {},
     "output_type": "display_data"
    }
   ],
   "source": [
    "## Eigenvalues\n",
    "\n",
    "plt.figure(figsize=(15, 5))\n",
    "plt.plot(pca.explained_variance_)\n",
    "plt.show()"
   ]
  },
  {
   "cell_type": "raw",
   "id": "9f85d293",
   "metadata": {},
   "source": [
    "First component (PC1) got an eigenvalue of 38 (variance captured)"
   ]
  },
  {
   "cell_type": "code",
   "execution_count": 16,
   "id": "e07c4303",
   "metadata": {},
   "outputs": [
    {
     "data": {
      "image/png": "[encoded data removed]",
      "text/plain": [
       "<Figure size 1500x500 with 1 Axes>"
      ]
     },
     "metadata": {},
     "output_type": "display_data"
    }
   ],
   "source": [
    "plt.figure(figsize=(15, 5))\n",
    "plt.plot(np.cumsum(pca.explained_variance_ratio_))\n",
    "plt.show()"
   ]
  },
  {
   "cell_type": "raw",
   "id": "87e4287c",
   "metadata": {},
   "source": [
    "The plot shows that about 300 components capture approximately 95% of variation in the data"
   ]
  },
  {
   "cell_type": "code",
   "execution_count": 17,
   "id": "fcf6b177",
   "metadata": {},
   "outputs": [],
   "source": [
    "pca = PCA(0.95)\n",
    "pca.fit(X_trains)\n",
    "\n",
    "X_train_pc = pca.fit_transform(X_trains)\n",
    "X_test_pc = pca.transform(X_tests)"
   ]
  },
  {
   "cell_type": "code",
   "execution_count": 18,
   "id": "84f6ecac",
   "metadata": {},
   "outputs": [
    {
     "data": {
      "text/plain": [
       "(6700, 280)"
      ]
     },
     "execution_count": 18,
     "metadata": {},
     "output_type": "execute_result"
    }
   ],
   "source": [
    "X_train_pc.shape"
   ]
  },
  {
   "cell_type": "code",
   "execution_count": 19,
   "id": "eec5cead",
   "metadata": {},
   "outputs": [
    {
     "name": "stdout",
     "output_type": "stream",
     "text": [
      "accuracy score - train 1.0\n",
      "class report - train               precision    recall  f1-score   support\n",
      "\n",
      "           0       1.00      1.00      1.00       648\n",
      "           1       1.00      1.00      1.00       702\n",
      "           2       1.00      1.00      1.00       663\n",
      "           3       1.00      1.00      1.00       668\n",
      "           4       1.00      1.00      1.00       654\n",
      "           5       1.00      1.00      1.00       626\n",
      "           6       1.00      1.00      1.00       669\n",
      "           7       1.00      1.00      1.00       719\n",
      "           8       1.00      1.00      1.00       658\n",
      "           9       1.00      1.00      1.00       693\n",
      "\n",
      "    accuracy                           1.00      6700\n",
      "   macro avg       1.00      1.00      1.00      6700\n",
      "weighted avg       1.00      1.00      1.00      6700\n",
      "\n",
      "confusion report - train [[648   0   0   0   0   0   0   0   0   0]\n",
      " [  0 702   0   0   0   0   0   0   0   0]\n",
      " [  0   0 663   0   0   0   0   0   0   0]\n",
      " [  0   0   0 668   0   0   0   0   0   0]\n",
      " [  0   0   0   0 654   0   0   0   0   0]\n",
      " [  0   0   0   0   0 626   0   0   0   0]\n",
      " [  0   0   0   0   0   0 669   0   0   0]\n",
      " [  0   0   0   0   0   0   0 719   0   0]\n",
      " [  0   0   0   0   0   0   0   0 658   0]\n",
      " [  0   0   0   0   0   0   0   0   0 693]]\n",
      "accuracy score - test 0.9078787878787878\n",
      "class report - test               precision    recall  f1-score   support\n",
      "\n",
      "           0       0.94      0.96      0.95       336\n",
      "           1       0.97      0.97      0.97       391\n",
      "           2       0.85      0.89      0.87       331\n",
      "           3       0.86      0.89      0.87       332\n",
      "           4       0.93      0.91      0.92       326\n",
      "           5       0.91      0.86      0.88       293\n",
      "           6       0.95      0.94      0.94       312\n",
      "           7       0.89      0.89      0.89       341\n",
      "           8       0.89      0.87      0.88       321\n",
      "           9       0.90      0.87      0.89       317\n",
      "\n",
      "    accuracy                           0.91      3300\n",
      "   macro avg       0.91      0.91      0.91      3300\n",
      "weighted avg       0.91      0.91      0.91      3300\n",
      "\n",
      "confusion report - test [[322   0   9   2   0   1   1   0   1   0]\n",
      " [  0 380   5   0   1   0   2   1   2   0]\n",
      " [  4   0 296   9   3   2   7   5   3   2]\n",
      " [  2   0  13 294   1   2   1   6  11   2]\n",
      " [  1   1   4   0 298   2   2   5   0  13]\n",
      " [  2   0   4  17   1 251   2   1  13   2]\n",
      " [  7   0   4   0   3   4 293   0   1   0]\n",
      " [  1   9   8   3   1   1   0 305   3  10]\n",
      " [  2   1   6  12   3  10   2   3 280   2]\n",
      " [  3   0   0   6  10   2   0  17   2 277]]\n"
     ]
    }
   ],
   "source": [
    "rfc = RandomForestClassifier()\n",
    "\n",
    "rfc.fit(X_train_pc, y_train)\n",
    "y_train_pred = rfc.predict(X_train_pc)\n",
    "y_test_pred = rfc.predict(X_test_pc)\n",
    "\n",
    "print('accuracy score - train', accuracy_score(y_train, y_train_pred))\n",
    "print('class report - train', classification_report(y_train, y_train_pred))\n",
    "print('confusion report - train', confusion_matrix(y_train, y_train_pred))\n",
    "\n",
    "print('accuracy score - test', accuracy_score(y_test, y_test_pred))\n",
    "print('class report - test', classification_report(y_test, y_test_pred))\n",
    "print('confusion report - test', confusion_matrix(y_test, y_test_pred))"
   ]
  },
  {
   "cell_type": "markdown",
   "id": "3045a6af",
   "metadata": {},
   "source": [
    "### Linear Descriminant Analysis (LDA)"
   ]
  },
  {
   "cell_type": "code",
   "execution_count": 20,
   "id": "e65ef0bd",
   "metadata": {},
   "outputs": [],
   "source": [
    "from sklearn.discriminant_analysis import LinearDiscriminantAnalysis\n",
    "lda = LinearDiscriminantAnalysis()\n",
    "\n",
    "X_train_lda = lda.fit_transform(X_trains, y_train)\n",
    "X_test_lda = lda.transform(X_tests)"
   ]
  },
  {
   "cell_type": "code",
   "execution_count": 21,
   "id": "ec1c2351",
   "metadata": {},
   "outputs": [
    {
     "data": {
      "text/plain": [
       "((6700, 9), (3300, 9))"
      ]
     },
     "execution_count": 21,
     "metadata": {},
     "output_type": "execute_result"
    }
   ],
   "source": [
    "X_train_lda.shape, X_test_lda.shape"
   ]
  },
  {
   "cell_type": "code",
   "execution_count": 22,
   "id": "6dfa4d25",
   "metadata": {},
   "outputs": [
    {
     "name": "stdout",
     "output_type": "stream",
     "text": [
      "accuracy score - train 1.0\n",
      "class report - train \n",
      "               precision    recall  f1-score   support\n",
      "\n",
      "           0       1.00      1.00      1.00       648\n",
      "           1       1.00      1.00      1.00       702\n",
      "           2       1.00      1.00      1.00       663\n",
      "           3       1.00      1.00      1.00       668\n",
      "           4       1.00      1.00      1.00       654\n",
      "           5       1.00      1.00      1.00       626\n",
      "           6       1.00      1.00      1.00       669\n",
      "           7       1.00      1.00      1.00       719\n",
      "           8       1.00      1.00      1.00       658\n",
      "           9       1.00      1.00      1.00       693\n",
      "\n",
      "    accuracy                           1.00      6700\n",
      "   macro avg       1.00      1.00      1.00      6700\n",
      "weighted avg       1.00      1.00      1.00      6700\n",
      "\n",
      "confusion report - train [[648   0   0   0   0   0   0   0   0   0]\n",
      " [  0 702   0   0   0   0   0   0   0   0]\n",
      " [  0   0 663   0   0   0   0   0   0   0]\n",
      " [  0   0   0 668   0   0   0   0   0   0]\n",
      " [  0   0   0   0 654   0   0   0   0   0]\n",
      " [  0   0   0   0   0 626   0   0   0   0]\n",
      " [  0   0   0   0   0   0 669   0   0   0]\n",
      " [  0   0   0   0   0   0   0 719   0   0]\n",
      " [  0   0   0   0   0   0   0   0 658   0]\n",
      " [  0   0   0   0   0   0   0   0   0 693]]\n",
      "\n",
      "\n",
      "accuracy score - test 0.8706060606060606\n",
      "class report - test \n",
      "               precision    recall  f1-score   support\n",
      "\n",
      "           0       0.93      0.95      0.94       336\n",
      "           1       0.94      0.94      0.94       391\n",
      "           2       0.85      0.84      0.84       331\n",
      "           3       0.83      0.83      0.83       332\n",
      "           4       0.85      0.90      0.87       326\n",
      "           5       0.84      0.81      0.83       293\n",
      "           6       0.93      0.90      0.92       312\n",
      "           7       0.90      0.88      0.89       341\n",
      "           8       0.79      0.81      0.80       321\n",
      "           9       0.83      0.82      0.83       317\n",
      "\n",
      "    accuracy                           0.87      3300\n",
      "   macro avg       0.87      0.87      0.87      3300\n",
      "weighted avg       0.87      0.87      0.87      3300\n",
      "\n",
      "confusion report - test [[319   0   5   2   0   4   3   0   3   0]\n",
      " [  0 367   3   1   1   3   0   1  14   1]\n",
      " [  3   3 279  13   5   0  10   8   8   2]\n",
      " [  3   3  14 276   1  12   0   5  12   6]\n",
      " [  2   0   5   0 294   2   2   1   0  20]\n",
      " [  5   1   3  13   2 238   1   3  22   5]\n",
      " [  2   3   7   0   6   9 280   1   3   1]\n",
      " [  2   4   8   5   6   0   0 299   3  14]\n",
      " [  1   9   4  17  10  11   4   1 261   3]\n",
      " [  7   0   2   7  21   3   0  12   5 260]]\n"
     ]
    }
   ],
   "source": [
    "from sklearn.ensemble import RandomForestClassifier\n",
    "from sklearn.metrics import accuracy_score, classification_report, confusion_matrix\n",
    "\n",
    "rfc = RandomForestClassifier()\n",
    "\n",
    "rfc.fit(X_train_lda, y_train)\n",
    "\n",
    "y_train_pred = rfc.predict(X_train_lda)\n",
    "y_test_pred = rfc.predict(X_test_lda)\n",
    "\n",
    "print('accuracy score - train', accuracy_score(y_train, y_train_pred))\n",
    "print('class report - train', '\\n', classification_report(y_train, y_train_pred))\n",
    "print('confusion report - train', confusion_matrix(y_train, y_train_pred))\n",
    "print('\\n')\n",
    "print('accuracy score - test', accuracy_score(y_test, y_test_pred))\n",
    "print('class report - test', '\\n', classification_report(y_test, y_test_pred))\n",
    "print('confusion report - test', confusion_matrix(y_test, y_test_pred))"
   ]
  }
 ],
 "metadata": {
  "kernelspec": {
   "display_name": "Python 3 (ipykernel)",
   "language": "python",
   "name": "python3"
  },
  "language_info": {
   "codemirror_mode": {
    "name": "ipython",
    "version": 3
   },
   "file_extension": ".py",
   "mimetype": "text/x-python",
   "name": "python",
   "nbconvert_exporter": "python",
   "pygments_lexer": "ipython3",
   "version": "3.10.11"
  }
 },
 "nbformat": 4,
 "nbformat_minor": 5
}
